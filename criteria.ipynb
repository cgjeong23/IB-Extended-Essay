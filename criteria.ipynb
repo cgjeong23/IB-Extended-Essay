{
 "cells": [
  {
   "cell_type": "code",
   "execution_count": 13,
   "metadata": {},
   "outputs": [],
   "source": [
    "import pandas as pd\n",
    "import numpy as np\n",
    "import matplotlib.pyplot as plt\n",
    "import seaborn as sns"
   ]
  },
  {
   "cell_type": "code",
   "execution_count": 14,
   "metadata": {},
   "outputs": [
    {
     "data": {
      "text/html": [
       "<div>\n",
       "<style scoped>\n",
       "    .dataframe tbody tr th:only-of-type {\n",
       "        vertical-align: middle;\n",
       "    }\n",
       "\n",
       "    .dataframe tbody tr th {\n",
       "        vertical-align: top;\n",
       "    }\n",
       "\n",
       "    .dataframe thead th {\n",
       "        text-align: right;\n",
       "    }\n",
       "</style>\n",
       "<table border=\"1\" class=\"dataframe\">\n",
       "  <thead>\n",
       "    <tr style=\"text-align: right;\">\n",
       "      <th></th>\n",
       "      <th>1인당 지역내총생산 (천원)</th>\n",
       "      <th>수준지수(서울특별시=100) (%)</th>\n",
       "    </tr>\n",
       "    <tr>\n",
       "      <th>자치구별(2)</th>\n",
       "      <th></th>\n",
       "      <th></th>\n",
       "    </tr>\n",
       "  </thead>\n",
       "  <tbody>\n",
       "    <tr>\n",
       "      <th>소계</th>\n",
       "      <td>45118</td>\n",
       "      <td>100.00</td>\n",
       "    </tr>\n",
       "    <tr>\n",
       "      <th>종로구</th>\n",
       "      <td>218704</td>\n",
       "      <td>484.74</td>\n",
       "    </tr>\n",
       "    <tr>\n",
       "      <th>중구</th>\n",
       "      <td>417483</td>\n",
       "      <td>925.32</td>\n",
       "    </tr>\n",
       "    <tr>\n",
       "      <th>용산구</th>\n",
       "      <td>56571</td>\n",
       "      <td>125.39</td>\n",
       "    </tr>\n",
       "    <tr>\n",
       "      <th>성동구</th>\n",
       "      <td>40100</td>\n",
       "      <td>88.88</td>\n",
       "    </tr>\n",
       "  </tbody>\n",
       "</table>\n",
       "</div>"
      ],
      "text/plain": [
       "         1인당 지역내총생산 (천원)  수준지수(서울특별시=100) (%)\n",
       "자치구별(2)                                      \n",
       "소계                 45118               100.00\n",
       "종로구               218704               484.74\n",
       "중구                417483               925.32\n",
       "용산구                56571               125.39\n",
       "성동구                40100                88.88"
      ]
     },
     "execution_count": 14,
     "metadata": {},
     "output_type": "execute_result"
    }
   ],
   "source": [
    "df = pd.read_csv(\"districts_GDPperCapita.csv\", index_col=0)\n",
    "df.head()"
   ]
  },
  {
   "cell_type": "code",
   "execution_count": 15,
   "metadata": {},
   "outputs": [
    {
     "data": {
      "text/html": [
       "<div>\n",
       "<style scoped>\n",
       "    .dataframe tbody tr th:only-of-type {\n",
       "        vertical-align: middle;\n",
       "    }\n",
       "\n",
       "    .dataframe tbody tr th {\n",
       "        vertical-align: top;\n",
       "    }\n",
       "\n",
       "    .dataframe thead th {\n",
       "        text-align: right;\n",
       "    }\n",
       "</style>\n",
       "<table border=\"1\" class=\"dataframe\">\n",
       "  <thead>\n",
       "    <tr style=\"text-align: right;\">\n",
       "      <th></th>\n",
       "      <th>사회 믿음</th>\n",
       "      <th>가족</th>\n",
       "      <th>이웃</th>\n",
       "      <th>친구</th>\n",
       "      <th>공공 기관</th>\n",
       "      <th>처음 만난 낯선 사람</th>\n",
       "      <th>국내 거주 외국인</th>\n",
       "    </tr>\n",
       "    <tr>\n",
       "      <th>자치구별(2)</th>\n",
       "      <th></th>\n",
       "      <th></th>\n",
       "      <th></th>\n",
       "      <th></th>\n",
       "      <th></th>\n",
       "      <th></th>\n",
       "      <th></th>\n",
       "    </tr>\n",
       "  </thead>\n",
       "  <tbody>\n",
       "    <tr>\n",
       "      <th>소계</th>\n",
       "      <td>5.10</td>\n",
       "      <td>8.49</td>\n",
       "      <td>4.83</td>\n",
       "      <td>6.91</td>\n",
       "      <td>5.30</td>\n",
       "      <td>2.49</td>\n",
       "      <td>2.56</td>\n",
       "    </tr>\n",
       "    <tr>\n",
       "      <th>종로구</th>\n",
       "      <td>4.91</td>\n",
       "      <td>8.41</td>\n",
       "      <td>4.65</td>\n",
       "      <td>6.64</td>\n",
       "      <td>5.11</td>\n",
       "      <td>2.24</td>\n",
       "      <td>2.41</td>\n",
       "    </tr>\n",
       "    <tr>\n",
       "      <th>중구</th>\n",
       "      <td>5.08</td>\n",
       "      <td>8.60</td>\n",
       "      <td>4.73</td>\n",
       "      <td>7.09</td>\n",
       "      <td>5.37</td>\n",
       "      <td>2.29</td>\n",
       "      <td>2.40</td>\n",
       "    </tr>\n",
       "    <tr>\n",
       "      <th>용산구</th>\n",
       "      <td>5.12</td>\n",
       "      <td>8.54</td>\n",
       "      <td>4.83</td>\n",
       "      <td>6.81</td>\n",
       "      <td>5.18</td>\n",
       "      <td>2.66</td>\n",
       "      <td>2.68</td>\n",
       "    </tr>\n",
       "    <tr>\n",
       "      <th>성동구</th>\n",
       "      <td>5.12</td>\n",
       "      <td>8.34</td>\n",
       "      <td>4.87</td>\n",
       "      <td>6.83</td>\n",
       "      <td>5.32</td>\n",
       "      <td>2.63</td>\n",
       "      <td>2.70</td>\n",
       "    </tr>\n",
       "  </tbody>\n",
       "</table>\n",
       "</div>"
      ],
      "text/plain": [
       "         사회 믿음    가족    이웃    친구  공공 기관  처음 만난 낯선 사람  국내 거주 외국인\n",
       "자치구별(2)                                                        \n",
       "소계        5.10  8.49  4.83  6.91   5.30         2.49       2.56\n",
       "종로구       4.91  8.41  4.65  6.64   5.11         2.24       2.41\n",
       "중구        5.08  8.60  4.73  7.09   5.37         2.29       2.40\n",
       "용산구       5.12  8.54  4.83  6.81   5.18         2.66       2.68\n",
       "성동구       5.12  8.34  4.87  6.83   5.32         2.63       2.70"
      ]
     },
     "execution_count": 15,
     "metadata": {},
     "output_type": "execute_result"
    }
   ],
   "source": [
    "social_trust = pd.read_csv(\"social_trust.csv\", index_col=0)\n",
    "edu = pd.read_csv(\"districts_edu2.csv\", index_col=0)\n",
    "health = pd.read_csv(\"districts_health.csv\", index_col=0)\n",
    "social_trust.head()"
   ]
  },
  {
   "cell_type": "code",
   "execution_count": 16,
   "metadata": {},
   "outputs": [
    {
     "data": {
      "text/html": [
       "<div>\n",
       "<style scoped>\n",
       "    .dataframe tbody tr th:only-of-type {\n",
       "        vertical-align: middle;\n",
       "    }\n",
       "\n",
       "    .dataframe tbody tr th {\n",
       "        vertical-align: top;\n",
       "    }\n",
       "\n",
       "    .dataframe thead th {\n",
       "        text-align: right;\n",
       "    }\n",
       "</style>\n",
       "<table border=\"1\" class=\"dataframe\">\n",
       "  <thead>\n",
       "    <tr style=\"text-align: right;\">\n",
       "      <th></th>\n",
       "      <th>1인당 지역내총생산 (천원)</th>\n",
       "      <th>사회 믿음</th>\n",
       "      <th>교육재정</th>\n",
       "      <th>병원수</th>\n",
       "      <th>병상수</th>\n",
       "    </tr>\n",
       "  </thead>\n",
       "  <tbody>\n",
       "    <tr>\n",
       "      <th>소계</th>\n",
       "      <td>45118</td>\n",
       "      <td>5.10</td>\n",
       "      <td>0</td>\n",
       "      <td>17916</td>\n",
       "      <td>89714</td>\n",
       "    </tr>\n",
       "    <tr>\n",
       "      <th>종로구</th>\n",
       "      <td>218704</td>\n",
       "      <td>4.91</td>\n",
       "      <td>4530</td>\n",
       "      <td>494</td>\n",
       "      <td>3317</td>\n",
       "    </tr>\n",
       "    <tr>\n",
       "      <th>중구</th>\n",
       "      <td>417483</td>\n",
       "      <td>5.08</td>\n",
       "      <td>4112</td>\n",
       "      <td>572</td>\n",
       "      <td>1365</td>\n",
       "    </tr>\n",
       "    <tr>\n",
       "      <th>용산구</th>\n",
       "      <td>56571</td>\n",
       "      <td>5.12</td>\n",
       "      <td>3256</td>\n",
       "      <td>310</td>\n",
       "      <td>926</td>\n",
       "    </tr>\n",
       "    <tr>\n",
       "      <th>성동구</th>\n",
       "      <td>40100</td>\n",
       "      <td>5.12</td>\n",
       "      <td>6864</td>\n",
       "      <td>456</td>\n",
       "      <td>1803</td>\n",
       "    </tr>\n",
       "  </tbody>\n",
       "</table>\n",
       "</div>"
      ],
      "text/plain": [
       "     1인당 지역내총생산 (천원)  사회 믿음  교육재정    병원수    병상수\n",
       "소계             45118   5.10     0  17916  89714\n",
       "종로구           218704   4.91  4530    494   3317\n",
       "중구            417483   5.08  4112    572   1365\n",
       "용산구            56571   5.12  3256    310    926\n",
       "성동구            40100   5.12  6864    456   1803"
      ]
     },
     "execution_count": 16,
     "metadata": {},
     "output_type": "execute_result"
    }
   ],
   "source": [
    "df = pd.concat([df, social_trust], axis=1)\n",
    "df = pd.concat([df, edu], axis=1)\n",
    "df = pd.concat([df, health], axis=1)\n",
    "df = df.drop(labels=['수준지수(서울특별시=100) (%)','가족','이웃','친구','공공 기관','처음 만난 낯선 사람','국내 거주 외국인'],axis=1)\n",
    "df.head()"
   ]
  },
  {
   "cell_type": "code",
   "execution_count": 17,
   "metadata": {},
   "outputs": [
    {
     "name": "stdout",
     "output_type": "stream",
     "text": [
      "종로구     17.0\n",
      "중구      20.0\n",
      "용산구     25.0\n",
      "성동구     23.0\n",
      "광진구     19.0\n",
      "동대문구     7.5\n",
      "중랑구     17.0\n",
      "성북구     14.0\n",
      "강북구     21.0\n",
      "도봉구     22.0\n",
      "노원구      9.0\n",
      "은평구      7.5\n",
      "서대문구    15.0\n",
      "마포구     17.0\n",
      "양천구     11.0\n",
      "강서구      4.5\n",
      "구로구     10.0\n",
      "금천구     24.0\n",
      "영등포구     4.5\n",
      "동작구     12.5\n",
      "관악구     12.5\n",
      "서초구      6.0\n",
      "강남구      1.0\n",
      "송파구      2.0\n",
      "강동구      3.0\n",
      "dtype: float64\n"
     ]
    }
   ],
   "source": [
    "health_df = df[['병원수','병상수']]\n",
    "health_df = health_df.drop(labels='소계',axis=0)\n",
    "health_df['Hospital rank'] = health_df['병원수'].rank(ascending=False)\n",
    "health_df = health_df.drop(labels='병원수',axis=1)\n",
    "health_df['Medical bed rank'] = health_df['병상수'].rank(ascending=False)\n",
    "health_df = health_df.drop(labels='병상수',axis=1)\n",
    "\n",
    "health_df = health_df.sum(axis=1)\n",
    "health_df = health_df.rank(ascending=True)\n",
    "print(health_df)"
   ]
  },
  {
   "cell_type": "markdown",
   "metadata": {},
   "source": [
    "## Ranking Districts"
   ]
  },
  {
   "cell_type": "code",
   "execution_count": 18,
   "metadata": {},
   "outputs": [
    {
     "ename": "KeyError",
     "evalue": "'진학률 (%)'",
     "output_type": "error",
     "traceback": [
      "\u001b[0;31m---------------------------------------------------------------------------\u001b[0m",
      "\u001b[0;31mKeyError\u001b[0m                                  Traceback (most recent call last)",
      "File \u001b[0;32m~/opt/miniconda3/envs/datascience/lib/python3.9/site-packages/pandas/core/indexes/base.py:3621\u001b[0m, in \u001b[0;36mIndex.get_loc\u001b[0;34m(self, key, method, tolerance)\u001b[0m\n\u001b[1;32m   3620\u001b[0m \u001b[38;5;28;01mtry\u001b[39;00m:\n\u001b[0;32m-> 3621\u001b[0m     \u001b[38;5;28;01mreturn\u001b[39;00m \u001b[38;5;28;43mself\u001b[39;49m\u001b[38;5;241;43m.\u001b[39;49m\u001b[43m_engine\u001b[49m\u001b[38;5;241;43m.\u001b[39;49m\u001b[43mget_loc\u001b[49m\u001b[43m(\u001b[49m\u001b[43mcasted_key\u001b[49m\u001b[43m)\u001b[49m\n\u001b[1;32m   3622\u001b[0m \u001b[38;5;28;01mexcept\u001b[39;00m \u001b[38;5;167;01mKeyError\u001b[39;00m \u001b[38;5;28;01mas\u001b[39;00m err:\n",
      "File \u001b[0;32m~/opt/miniconda3/envs/datascience/lib/python3.9/site-packages/pandas/_libs/index.pyx:136\u001b[0m, in \u001b[0;36mpandas._libs.index.IndexEngine.get_loc\u001b[0;34m()\u001b[0m\n",
      "File \u001b[0;32m~/opt/miniconda3/envs/datascience/lib/python3.9/site-packages/pandas/_libs/index.pyx:163\u001b[0m, in \u001b[0;36mpandas._libs.index.IndexEngine.get_loc\u001b[0;34m()\u001b[0m\n",
      "File \u001b[0;32mpandas/_libs/hashtable_class_helper.pxi:5198\u001b[0m, in \u001b[0;36mpandas._libs.hashtable.PyObjectHashTable.get_item\u001b[0;34m()\u001b[0m\n",
      "File \u001b[0;32mpandas/_libs/hashtable_class_helper.pxi:5206\u001b[0m, in \u001b[0;36mpandas._libs.hashtable.PyObjectHashTable.get_item\u001b[0;34m()\u001b[0m\n",
      "\u001b[0;31mKeyError\u001b[0m: '진학률 (%)'",
      "\nThe above exception was the direct cause of the following exception:\n",
      "\u001b[0;31mKeyError\u001b[0m                                  Traceback (most recent call last)",
      "Input \u001b[0;32mIn [18]\u001b[0m, in \u001b[0;36m<cell line: 6>\u001b[0;34m()\u001b[0m\n\u001b[1;32m      4\u001b[0m df[\u001b[38;5;124m'\u001b[39m\u001b[38;5;124mSocial trust rank\u001b[39m\u001b[38;5;124m'\u001b[39m] \u001b[38;5;241m=\u001b[39m df[\u001b[38;5;124m'\u001b[39m\u001b[38;5;124m사회 믿음\u001b[39m\u001b[38;5;124m'\u001b[39m]\u001b[38;5;241m.\u001b[39mrank(ascending\u001b[38;5;241m=\u001b[39m\u001b[38;5;28;01mFalse\u001b[39;00m)\n\u001b[1;32m      5\u001b[0m df \u001b[38;5;241m=\u001b[39m df\u001b[38;5;241m.\u001b[39mdrop(labels\u001b[38;5;241m=\u001b[39m\u001b[38;5;124m'\u001b[39m\u001b[38;5;124m사회 믿음\u001b[39m\u001b[38;5;124m'\u001b[39m,axis\u001b[38;5;241m=\u001b[39m\u001b[38;5;241m1\u001b[39m)\n\u001b[0;32m----> 6\u001b[0m df[\u001b[38;5;124m'\u001b[39m\u001b[38;5;124mEducation rank\u001b[39m\u001b[38;5;124m'\u001b[39m] \u001b[38;5;241m=\u001b[39m \u001b[43mdf\u001b[49m\u001b[43m[\u001b[49m\u001b[38;5;124;43m'\u001b[39;49m\u001b[38;5;124;43m진학률 (\u001b[39;49m\u001b[38;5;124;43m%\u001b[39;49m\u001b[38;5;124;43m)\u001b[39;49m\u001b[38;5;124;43m'\u001b[39;49m\u001b[43m]\u001b[49m\u001b[38;5;241m.\u001b[39mrank(ascending\u001b[38;5;241m=\u001b[39m\u001b[38;5;28;01mFalse\u001b[39;00m)\n\u001b[1;32m      7\u001b[0m df \u001b[38;5;241m=\u001b[39m df\u001b[38;5;241m.\u001b[39mdrop(labels\u001b[38;5;241m=\u001b[39m\u001b[38;5;124m'\u001b[39m\u001b[38;5;124m진학률 (\u001b[39m\u001b[38;5;124m%\u001b[39m\u001b[38;5;124m)\u001b[39m\u001b[38;5;124m'\u001b[39m,axis\u001b[38;5;241m=\u001b[39m\u001b[38;5;241m1\u001b[39m)\n\u001b[1;32m     10\u001b[0m df \u001b[38;5;241m=\u001b[39m df\u001b[38;5;241m.\u001b[39mdrop(labels\u001b[38;5;241m=\u001b[39m\u001b[38;5;124m'\u001b[39m\u001b[38;5;124m병원수\u001b[39m\u001b[38;5;124m'\u001b[39m,axis\u001b[38;5;241m=\u001b[39m\u001b[38;5;241m1\u001b[39m)\n",
      "File \u001b[0;32m~/opt/miniconda3/envs/datascience/lib/python3.9/site-packages/pandas/core/frame.py:3505\u001b[0m, in \u001b[0;36mDataFrame.__getitem__\u001b[0;34m(self, key)\u001b[0m\n\u001b[1;32m   3503\u001b[0m \u001b[38;5;28;01mif\u001b[39;00m \u001b[38;5;28mself\u001b[39m\u001b[38;5;241m.\u001b[39mcolumns\u001b[38;5;241m.\u001b[39mnlevels \u001b[38;5;241m>\u001b[39m \u001b[38;5;241m1\u001b[39m:\n\u001b[1;32m   3504\u001b[0m     \u001b[38;5;28;01mreturn\u001b[39;00m \u001b[38;5;28mself\u001b[39m\u001b[38;5;241m.\u001b[39m_getitem_multilevel(key)\n\u001b[0;32m-> 3505\u001b[0m indexer \u001b[38;5;241m=\u001b[39m \u001b[38;5;28;43mself\u001b[39;49m\u001b[38;5;241;43m.\u001b[39;49m\u001b[43mcolumns\u001b[49m\u001b[38;5;241;43m.\u001b[39;49m\u001b[43mget_loc\u001b[49m\u001b[43m(\u001b[49m\u001b[43mkey\u001b[49m\u001b[43m)\u001b[49m\n\u001b[1;32m   3506\u001b[0m \u001b[38;5;28;01mif\u001b[39;00m is_integer(indexer):\n\u001b[1;32m   3507\u001b[0m     indexer \u001b[38;5;241m=\u001b[39m [indexer]\n",
      "File \u001b[0;32m~/opt/miniconda3/envs/datascience/lib/python3.9/site-packages/pandas/core/indexes/base.py:3623\u001b[0m, in \u001b[0;36mIndex.get_loc\u001b[0;34m(self, key, method, tolerance)\u001b[0m\n\u001b[1;32m   3621\u001b[0m     \u001b[38;5;28;01mreturn\u001b[39;00m \u001b[38;5;28mself\u001b[39m\u001b[38;5;241m.\u001b[39m_engine\u001b[38;5;241m.\u001b[39mget_loc(casted_key)\n\u001b[1;32m   3622\u001b[0m \u001b[38;5;28;01mexcept\u001b[39;00m \u001b[38;5;167;01mKeyError\u001b[39;00m \u001b[38;5;28;01mas\u001b[39;00m err:\n\u001b[0;32m-> 3623\u001b[0m     \u001b[38;5;28;01mraise\u001b[39;00m \u001b[38;5;167;01mKeyError\u001b[39;00m(key) \u001b[38;5;28;01mfrom\u001b[39;00m \u001b[38;5;21;01merr\u001b[39;00m\n\u001b[1;32m   3624\u001b[0m \u001b[38;5;28;01mexcept\u001b[39;00m \u001b[38;5;167;01mTypeError\u001b[39;00m:\n\u001b[1;32m   3625\u001b[0m     \u001b[38;5;66;03m# If we have a listlike key, _check_indexing_error will raise\u001b[39;00m\n\u001b[1;32m   3626\u001b[0m     \u001b[38;5;66;03m#  InvalidIndexError. Otherwise we fall through and re-raise\u001b[39;00m\n\u001b[1;32m   3627\u001b[0m     \u001b[38;5;66;03m#  the TypeError.\u001b[39;00m\n\u001b[1;32m   3628\u001b[0m     \u001b[38;5;28mself\u001b[39m\u001b[38;5;241m.\u001b[39m_check_indexing_error(key)\n",
      "\u001b[0;31mKeyError\u001b[0m: '진학률 (%)'"
     ]
    }
   ],
   "source": [
    "df = df.drop(labels='소계',axis=0)\n",
    "df['GDP per capita rank'] = df['1인당 지역내총생산 (천원)'].rank(ascending=False)\n",
    "df = df.drop(labels='1인당 지역내총생산 (천원)',axis=1)\n",
    "df['Social trust rank'] = df['사회 믿음'].rank(ascending=False)\n",
    "df = df.drop(labels='사회 믿음',axis=1)\n",
    "df['Education rank'] = df['교육재정'].rank(ascending=False)\n",
    "df = df.drop(labels='교육재정',axis=1)\n",
    "\n",
    "\n",
    "df = df.drop(labels='병원수',axis=1)\n",
    "df = df.drop(labels='병상수',axis=1)\n",
    "df['Health rank'] = health_df\n",
    "\n",
    "df.head"
   ]
  },
  {
   "cell_type": "code",
   "execution_count": null,
   "metadata": {},
   "outputs": [
    {
     "name": "stdout",
     "output_type": "stream",
     "text": [
      "자치구별(2)\n",
      "종로구     18.5\n",
      "중구      15.0\n",
      "용산구     22.0\n",
      "성동구     14.0\n",
      "광진구     16.5\n",
      "동대문구     7.0\n",
      "중랑구     11.0\n",
      "성북구     18.5\n",
      "강북구     22.0\n",
      "도봉구     24.0\n",
      "노원구      6.0\n",
      "은평구     25.0\n",
      "서대문구     5.0\n",
      "마포구     16.5\n",
      "양천구     20.0\n",
      "강서구      9.0\n",
      "구로구      3.0\n",
      "금천구      4.0\n",
      "영등포구     1.5\n",
      "동작구     13.0\n",
      "관악구     22.0\n",
      "서초구     12.0\n",
      "강남구     10.0\n",
      "송파구      1.5\n",
      "강동구      8.0\n",
      "dtype: float64\n"
     ]
    }
   ],
   "source": [
    "print(df)"
   ]
  },
  {
   "cell_type": "code",
   "execution_count": null,
   "metadata": {},
   "outputs": [
    {
     "data": {
      "text/plain": [
       "자치구별(2)\n",
       "종로구    62.0\n",
       "중구     59.0\n",
       "용산구    63.5\n",
       "성동구    56.5\n",
       "광진구    59.5\n",
       "dtype: float64"
      ]
     },
     "execution_count": 130,
     "metadata": {},
     "output_type": "execute_result"
    }
   ],
   "source": [
    "df = df.sum(axis=1)\n",
    "df.head()"
   ]
  },
  {
   "cell_type": "code",
   "execution_count": null,
   "metadata": {},
   "outputs": [],
   "source": [
    "df = df.rank(ascending=True)"
   ]
  },
  {
   "cell_type": "code",
   "execution_count": null,
   "metadata": {},
   "outputs": [
    {
     "name": "stdout",
     "output_type": "stream",
     "text": [
      "자치구별(2)\n",
      "종로구     18.5\n",
      "중구      15.0\n",
      "용산구     22.0\n",
      "성동구     14.0\n",
      "광진구     16.5\n",
      "동대문구     7.0\n",
      "중랑구     11.0\n",
      "성북구     18.5\n",
      "강북구     22.0\n",
      "도봉구     24.0\n",
      "노원구      6.0\n",
      "은평구     25.0\n",
      "서대문구     5.0\n",
      "마포구     16.5\n",
      "양천구     20.0\n",
      "강서구      9.0\n",
      "구로구      3.0\n",
      "금천구      4.0\n",
      "영등포구     1.5\n",
      "동작구     13.0\n",
      "관악구     22.0\n",
      "서초구     12.0\n",
      "강남구     10.0\n",
      "송파구      1.5\n",
      "강동구      8.0\n",
      "dtype: float64\n"
     ]
    }
   ],
   "source": [
    "print(df)"
   ]
  }
 ],
 "metadata": {
  "interpreter": {
   "hash": "1242238a27090cfd0a9f95cca18072a5b0343382fab30269241b63569e4c53cd"
  },
  "kernelspec": {
   "display_name": "Python 3.9.12 64-bit ('datascience': conda)",
   "name": "python3"
  },
  "language_info": {
   "codemirror_mode": {
    "name": "ipython",
    "version": 3
   },
   "file_extension": ".py",
   "mimetype": "text/x-python",
   "name": "python",
   "nbconvert_exporter": "python",
   "pygments_lexer": "ipython3",
   "version": "3.9.12"
  },
  "orig_nbformat": 4
 },
 "nbformat": 4,
 "nbformat_minor": 2
}